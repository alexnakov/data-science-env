{
 "cells": [
  {
   "cell_type": "code",
   "execution_count": null,
   "id": "33e93298",
   "metadata": {},
   "outputs": [
    {
     "name": "stderr",
     "output_type": "stream",
     "text": [
      "0.6%"
     ]
    },
    {
     "name": "stdout",
     "output_type": "stream",
     "text": [
      "Downloading: \"https://download.pytorch.org/models/resnet18-f37072fd.pth\" to /Users/user/.cache/torch/hub/checkpoints/resnet18-f37072fd.pth\n"
     ]
    },
    {
     "name": "stderr",
     "output_type": "stream",
     "text": [
      "100.0%\n"
     ]
    },
    {
     "ename": "NameError",
     "evalue": "name 'Image' is not defined",
     "output_type": "error",
     "traceback": [
      "\u001b[31m---------------------------------------------------------------------------\u001b[39m",
      "\u001b[31mNameError\u001b[39m                                 Traceback (most recent call last)",
      "\u001b[36mCell\u001b[39m\u001b[36m \u001b[39m\u001b[32mIn[7]\u001b[39m\u001b[32m, line 15\u001b[39m\n\u001b[32m     13\u001b[39m \u001b[38;5;28;01mfor\u001b[39;00m img_path \u001b[38;5;129;01min\u001b[39;00m os.listdir(os.path.join(dir_, category)):\n\u001b[32m     14\u001b[39m   img_path_ = os.path.join(dir_, category, img_path)\n\u001b[32m---> \u001b[39m\u001b[32m15\u001b[39m   img = \u001b[43mImage\u001b[49m.open(img_path_)\n\u001b[32m     16\u001b[39m   img_features = img2vec(img)\n\u001b[32m     17\u001b[39m   features.append(img_features)\n",
      "\u001b[31mNameError\u001b[39m: name 'Image' is not defined"
     ]
    }
   ],
   "source": [
    "from img2vec_pytorch import Img2Vec\n",
    "from PIL import Image\n",
    "\n",
    "img2vec = Img2Vec()\n",
    "\n",
    "train_dir = os.path.join('./img_data/train')\n",
    "test_dir = os.path.join('./img_data/test')\n",
    "\n",
    "data = {}\n",
    "for j, dir_ in enumerate([train_dir, test_dir]): # 0 for train, 1 for test\n",
    "  features = []\n",
    "  labels = []\n",
    "  for category in os.listdir(os.path.join(dir_)):\n",
    "    for img_path in os.listdir(os.path.join(dir_, category)):\n",
    "      img_path_ = os.path.join(dir_, category, img_path)\n",
    "      img = Image.open(img_path_)\n",
    "      img_features = img2vec(img)\n",
    "      features.append(img_features)\n",
    "      labels.append(category)\n",
    "  data[['training_data', 'test_data'][j]] = features\n",
    "  data[['training_labels', 'test_labels'][j]] = labels\n",
    "\n",
    "print(data.keys())"
   ]
  }
 ],
 "metadata": {
  "kernelspec": {
   "display_name": ".venv",
   "language": "python",
   "name": "python3"
  },
  "language_info": {
   "codemirror_mode": {
    "name": "ipython",
    "version": 3
   },
   "file_extension": ".py",
   "mimetype": "text/x-python",
   "name": "python",
   "nbconvert_exporter": "python",
   "pygments_lexer": "ipython3",
   "version": "3.12.7"
  }
 },
 "nbformat": 4,
 "nbformat_minor": 5
}
